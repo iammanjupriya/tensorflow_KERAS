{
  "nbformat": 4,
  "nbformat_minor": 0,
  "metadata": {
    "colab": {
      "provenance": []
    },
    "kernelspec": {
      "name": "python3",
      "display_name": "Python 3"
    },
    "language_info": {
      "name": "python"
    }
  },
  "cells": [
    {
      "cell_type": "code",
      "source": [
        "import tensorflow as tf\n",
        "from tensorflow.keras import layers, models\n",
        "\n",
        "# Load dataset (e.g., MNIST)\n",
        "mnist = tf.keras.datasets.mnist\n",
        "(x_train, y_train), (x_test, y_test) = mnist.load_data()\n",
        "x_train, x_test = x_train / 255.0, x_test / 255.0\n",
        "\n",
        "# Build the model\n",
        "model = models.Sequential([\n",
        "    layers.Flatten(input_shape=(28, 28)),\n",
        "    layers.Dense(128, activation='relu'),\n",
        "    layers.Dropout(0.2),\n",
        "    layers.Dense(10)\n",
        "])\n",
        "\n",
        "# Compile the model\n",
        "model.compile(optimizer='adam',\n",
        "              loss=tf.keras.losses.SparseCategoricalCrossentropy(from_logits=True),\n",
        "              metrics=['accuracy'])\n",
        "\n",
        "# Train the model\n",
        "model.fit(x_train, y_train, epochs=5)\n",
        "\n",
        "# Evaluate the model\n",
        "model.evaluate(x_test, y_test, verbose=2)\n"
      ],
      "metadata": {
        "colab": {
          "base_uri": "https://localhost:8080/"
        },
        "id": "FN6RuAf9wPJ5",
        "outputId": "aafd25b6-a87e-40dd-f9fe-894780491aa1"
      },
      "execution_count": null,
      "outputs": [
        {
          "output_type": "stream",
          "name": "stdout",
          "text": [
            "Downloading data from https://storage.googleapis.com/tensorflow/tf-keras-datasets/mnist.npz\n",
            "\u001b[1m11490434/11490434\u001b[0m \u001b[32m━━━━━━━━━━━━━━━━━━━━\u001b[0m\u001b[37m\u001b[0m \u001b[1m0s\u001b[0m 0us/step\n"
          ]
        },
        {
          "output_type": "stream",
          "name": "stderr",
          "text": [
            "/usr/local/lib/python3.10/dist-packages/keras/src/layers/reshaping/flatten.py:37: UserWarning: Do not pass an `input_shape`/`input_dim` argument to a layer. When using Sequential models, prefer using an `Input(shape)` object as the first layer in the model instead.\n",
            "  super().__init__(**kwargs)\n"
          ]
        },
        {
          "output_type": "stream",
          "name": "stdout",
          "text": [
            "Epoch 1/5\n",
            "\u001b[1m1875/1875\u001b[0m \u001b[32m━━━━━━━━━━━━━━━━━━━━\u001b[0m\u001b[37m\u001b[0m \u001b[1m8s\u001b[0m 3ms/step - accuracy: 0.8607 - loss: 0.4732\n",
            "Epoch 2/5\n",
            "\u001b[1m1875/1875\u001b[0m \u001b[32m━━━━━━━━━━━━━━━━━━━━\u001b[0m\u001b[37m\u001b[0m \u001b[1m8s\u001b[0m 4ms/step - accuracy: 0.9552 - loss: 0.1518\n",
            "Epoch 3/5\n",
            "\u001b[1m1875/1875\u001b[0m \u001b[32m━━━━━━━━━━━━━━━━━━━━\u001b[0m\u001b[37m\u001b[0m \u001b[1m6s\u001b[0m 3ms/step - accuracy: 0.9671 - loss: 0.1076\n",
            "Epoch 4/5\n",
            "\u001b[1m1875/1875\u001b[0m \u001b[32m━━━━━━━━━━━━━━━━━━━━\u001b[0m\u001b[37m\u001b[0m \u001b[1m9s\u001b[0m 5ms/step - accuracy: 0.9739 - loss: 0.0867\n",
            "Epoch 5/5\n",
            "\u001b[1m1875/1875\u001b[0m \u001b[32m━━━━━━━━━━━━━━━━━━━━\u001b[0m\u001b[37m\u001b[0m \u001b[1m7s\u001b[0m 3ms/step - accuracy: 0.9765 - loss: 0.0765\n",
            "313/313 - 1s - 2ms/step - accuracy: 0.9768 - loss: 0.0747\n"
          ]
        },
        {
          "output_type": "execute_result",
          "data": {
            "text/plain": [
              "[0.07471597194671631, 0.9768000245094299]"
            ]
          },
          "metadata": {},
          "execution_count": 1
        }
      ]
    },
    {
      "cell_type": "markdown",
      "source": [
        "Keras offers three main ways to build neural networks: Sequential, Functional, and Subclassing API. Each method has its own advantages and use cases.\n",
        "\n",
        "1. Sequential API\n",
        "The Sequential API is the simplest way to build a model in Keras. It allows you to create models layer-by-layer for most problems.\n",
        "\n",
        "When to Use\n",
        "\n",
        "\n",
        "When building simple, feedforward neural networks.\n",
        "When the model has a single input and a single output.\n",
        "When layers are stacked sequentially.\n",
        "\n",
        "\n",
        "Advantages\n",
        "\n",
        "\n",
        "Easy to use and understand.\n",
        "Minimal code for straightforward models.\n",
        "\n",
        "\n",
        "Limitations\n",
        "\n",
        "\n",
        "Not flexible for models with multiple inputs or outputs.\n",
        "Not suitable for complex models with shared layers or non-linear data flows."
      ],
      "metadata": {
        "id": "aqJSs4lQwUMl"
      }
    },
    {
      "cell_type": "code",
      "source": [
        "from keras.models import Sequential\n",
        "from keras.layers import Dense\n",
        "\n",
        "# Define the input dimension\n",
        "input_dim = 784  # Example for MNIST, adjust as needed\n",
        "\n",
        "num_classes = 10 # Example for MNIST, adjust as needed\n",
        "\n",
        "model = Sequential([\n",
        "    Dense(64, activation='relu', input_shape=(input_dim,)),\n",
        "    Dense(64, activation='relu'),\n",
        "    Dense(num_classes, activation='softmax')\n",
        "])\n",
        "\n",
        "model.compile(optimizer='adam', loss='categorical_crossentropy', metrics=['accuracy'])"
      ],
      "metadata": {
        "id": "PuH7Lxgxwb8d"
      },
      "execution_count": null,
      "outputs": []
    },
    {
      "cell_type": "markdown",
      "source": [
        "2. Functional API\n",
        "The Functional API is more flexible than the Sequential API. It allows you to build complex models, such as multi-input/output models, shared layers, and models with residual connections.\n",
        "\n",
        "When to Use\n",
        "\n",
        "When building models with multiple inputs and outputs.\n",
        "When you need to share layers across different parts of the model.\n",
        "When building non-linear models, such as residual networks or models with branches.\n",
        "\n",
        "Advantages\n",
        "\n",
        "\n",
        "Greater flexibility.\n",
        "More control over the model architecture.\n",
        "Suitable for complex models.\n",
        "\n",
        "\n",
        "Limitations\n",
        "\n",
        "Slightly more complex syntax compared to the Sequential API.\n"
      ],
      "metadata": {
        "id": "_upREhfCyHmI"
      }
    },
    {
      "cell_type": "code",
      "source": [
        "from keras.layers import Input, Dense\n",
        "from keras.models import Model\n",
        "\n",
        "# Define the input dimension\n",
        "input_dim = 784  # Example for MNIST, adjust as needed\n",
        "num_classes = 10 # Example for MNIST, adjust as needed\n",
        "\n",
        "inputs = Input(shape=(input_dim,))\n",
        "x = Dense(64, activation='relu')(inputs)\n",
        "x = Dense(64, activation='relu')(x)\n",
        "outputs = Dense(num_classes, activation='softmax')(x)\n",
        "\n",
        "model = Model(inputs=inputs, outputs=outputs)\n",
        "\n",
        "model.compile(optimizer='adam', loss='categorical_crossentropy', metrics=['accuracy'])"
      ],
      "metadata": {
        "id": "2pN-XPXCwT57"
      },
      "execution_count": null,
      "outputs": []
    },
    {
      "cell_type": "markdown",
      "source": [
        "3.Subclassing API\n",
        "\n",
        "The Subclassing API gives you complete control by allowing you to subclass the Model class. This approach is the most flexible but requires more code and a deeper understanding of Keras.\n",
        "\n",
        "When to Use\n",
        "\n",
        "When you need complete flexibility and control over your model.\n",
        "When implementing custom layers or complex models that don’t fit into the Sequential or Functional API.\n",
        "\n",
        "Advantages\n",
        "\n",
        "Maximum flexibility.\n",
        "Allows for creating highly customized models and layers.\n",
        "Best for research and experimentation with novel architectures.\n",
        "\n",
        "Limitations\n",
        "\n",
        "Requires more boilerplate code.\n",
        "Can be more difficult to debug.\n",
        "Requires a deeper understanding of Keras and TensorFlow.\n"
      ],
      "metadata": {
        "id": "8WnPfwlEAvPl"
      }
    },
    {
      "cell_type": "code",
      "source": [
        "from keras import Model\n",
        "from keras.layers import Dense\n",
        "import tensorflow as tf\n",
        "\n",
        "# ... [Your existing MyModel class definition] ...\n",
        "\n",
        "model = MyModel()\n",
        "\n",
        "model.compile(optimizer='adam', loss='categorical_crossentropy', metrics=['accuracy'])\n",
        "\n",
        "# Load or generate your training and validation data here\n",
        "# Example using placeholder data:\n",
        "import numpy as np\n",
        "x_train = np.random.rand(100, 784)  # Replace with your actual training data\n",
        "y_train = np.random.rand(100, num_classes) # Replace with your actual training labels\n",
        "x_val = np.random.rand(20, 784)  # Replace with your actual validation data\n",
        "y_val = np.random.rand(20, num_classes) # Replace with your actual validation labels\n",
        "\n",
        "# Example usage with data\n",
        "model.fit(x_train, y_train, epochs=10, batch_size=32, validation_data=(x_val, y_val))"
      ],
      "metadata": {
        "colab": {
          "base_uri": "https://localhost:8080/"
        },
        "id": "h9BpmOLbBp8C",
        "outputId": "d9b77d54-ce84-4d1b-8497-cf36ab0165a6"
      },
      "execution_count": null,
      "outputs": [
        {
          "output_type": "stream",
          "name": "stdout",
          "text": [
            "Epoch 1/10\n",
            "\u001b[1m4/4\u001b[0m \u001b[32m━━━━━━━━━━━━━━━━━━━━\u001b[0m\u001b[37m\u001b[0m \u001b[1m2s\u001b[0m 82ms/step - accuracy: 0.1199 - loss: 12.0143 - val_accuracy: 0.1000 - val_loss: 12.8091\n",
            "Epoch 2/10\n",
            "\u001b[1m4/4\u001b[0m \u001b[32m━━━━━━━━━━━━━━━━━━━━\u001b[0m\u001b[37m\u001b[0m \u001b[1m0s\u001b[0m 11ms/step - accuracy: 0.0952 - loss: 13.0007 - val_accuracy: 0.1000 - val_loss: 14.9754\n",
            "Epoch 3/10\n",
            "\u001b[1m4/4\u001b[0m \u001b[32m━━━━━━━━━━━━━━━━━━━━\u001b[0m\u001b[37m\u001b[0m \u001b[1m0s\u001b[0m 11ms/step - accuracy: 0.0931 - loss: 15.3126 - val_accuracy: 0.1000 - val_loss: 16.6188\n",
            "Epoch 4/10\n",
            "\u001b[1m4/4\u001b[0m \u001b[32m━━━━━━━━━━━━━━━━━━━━\u001b[0m\u001b[37m\u001b[0m \u001b[1m0s\u001b[0m 11ms/step - accuracy: 0.1140 - loss: 16.9284 - val_accuracy: 0.1000 - val_loss: 18.0025\n",
            "Epoch 5/10\n",
            "\u001b[1m4/4\u001b[0m \u001b[32m━━━━━━━━━━━━━━━━━━━━\u001b[0m\u001b[37m\u001b[0m \u001b[1m0s\u001b[0m 11ms/step - accuracy: 0.1046 - loss: 18.3785 - val_accuracy: 0.1000 - val_loss: 19.2481\n",
            "Epoch 6/10\n",
            "\u001b[1m4/4\u001b[0m \u001b[32m━━━━━━━━━━━━━━━━━━━━\u001b[0m\u001b[37m\u001b[0m \u001b[1m0s\u001b[0m 12ms/step - accuracy: 0.1046 - loss: 19.7657 - val_accuracy: 0.1000 - val_loss: 21.9065\n",
            "Epoch 7/10\n",
            "\u001b[1m4/4\u001b[0m \u001b[32m━━━━━━━━━━━━━━━━━━━━\u001b[0m\u001b[37m\u001b[0m \u001b[1m0s\u001b[0m 11ms/step - accuracy: 0.1140 - loss: 22.7802 - val_accuracy: 0.1000 - val_loss: 25.3751\n",
            "Epoch 8/10\n",
            "\u001b[1m4/4\u001b[0m \u001b[32m━━━━━━━━━━━━━━━━━━━━\u001b[0m\u001b[37m\u001b[0m \u001b[1m0s\u001b[0m 11ms/step - accuracy: 0.0798 - loss: 25.9427 - val_accuracy: 0.0500 - val_loss: 29.4735\n",
            "Epoch 9/10\n",
            "\u001b[1m4/4\u001b[0m \u001b[32m━━━━━━━━━━━━━━━━━━━━\u001b[0m\u001b[37m\u001b[0m \u001b[1m0s\u001b[0m 11ms/step - accuracy: 0.1218 - loss: 30.4227 - val_accuracy: 0.0000e+00 - val_loss: 34.6385\n",
            "Epoch 10/10\n",
            "\u001b[1m4/4\u001b[0m \u001b[32m━━━━━━━━━━━━━━━━━━━━\u001b[0m\u001b[37m\u001b[0m \u001b[1m0s\u001b[0m 11ms/step - accuracy: 0.1298 - loss: 35.1516 - val_accuracy: 0.1000 - val_loss: 41.2231\n"
          ]
        },
        {
          "output_type": "execute_result",
          "data": {
            "text/plain": [
              "<keras.src.callbacks.history.History at 0x7fe5bef65f00>"
            ]
          },
          "metadata": {},
          "execution_count": 4
        }
      ]
    },
    {
      "cell_type": "markdown",
      "source": [
        "Summary\n",
        "\n",
        "Sequential API: Best for simple, linear stack of layers. Easy to use and understand.\n",
        "\n",
        "Functional API: Best for complex models with multiple inputs/outputs, shared layers, and non-linear architectures. Offers greater flexibility.\n",
        "\n",
        "Subclassing API: Best for highly customized and complex models. Provides maximum flexibility but requires more code and deeper understanding.\n",
        "\n",
        "Choose the API based on the complexity and requirements of your neural network architecture."
      ],
      "metadata": {
        "id": "8Z3gyspEBlXL"
      }
    },
    {
      "cell_type": "code",
      "source": [
        "import tensorflow as tf\n",
        "print(\"TensorFlow version:\", tf.__version__)"
      ],
      "metadata": {
        "colab": {
          "base_uri": "https://localhost:8080/"
        },
        "id": "cCuSVeowDJki",
        "outputId": "65a026f3-067c-4731-a088-13931e601da7"
      },
      "execution_count": null,
      "outputs": [
        {
          "output_type": "stream",
          "name": "stdout",
          "text": [
            "TensorFlow version: 2.17.0\n"
          ]
        }
      ]
    },
    {
      "cell_type": "markdown",
      "source": [
        "Load a dataset\n",
        "\n",
        "Load and prepare the MNIST dataset. The pixel values of the images range from 0 through 255. Scale these values to a range of 0 to 1 by dividing the values by 255.0. This also converts the sample data from integers to floating-point numbers:"
      ],
      "metadata": {
        "id": "pE_QFuR9Dlu5"
      }
    },
    {
      "cell_type": "code",
      "source": [
        "from keras.layers import Dense\n",
        "from keras.models import Sequential\n",
        "\n",
        "model = Sequential([\n",
        "    Dense(64, activation='relu', input_shape=(input_dim,)),\n",
        "    Dense(64, activation='relu'),\n",
        "    Dense(num_classes, activation='softmax')\n",
        "])\n",
        "\n",
        "model.compile(optimizer='adam', loss='categorical_crossentropy', metrics=['accuracy'])\n"
      ],
      "metadata": {
        "colab": {
          "base_uri": "https://localhost:8080/",
          "height": 211
        },
        "id": "p95vri7hsJCZ",
        "outputId": "07d86271-2e9f-4eda-e51a-deb7298e0497"
      },
      "execution_count": null,
      "outputs": [
        {
          "output_type": "error",
          "ename": "NameError",
          "evalue": "name 'input_dim' is not defined",
          "traceback": [
            "\u001b[0;31m---------------------------------------------------------------------------\u001b[0m",
            "\u001b[0;31mNameError\u001b[0m                                 Traceback (most recent call last)",
            "\u001b[0;32m<ipython-input-1-d8379c02cb4e>\u001b[0m in \u001b[0;36m<cell line: 4>\u001b[0;34m()\u001b[0m\n\u001b[1;32m      3\u001b[0m \u001b[0;34m\u001b[0m\u001b[0m\n\u001b[1;32m      4\u001b[0m model = Sequential([\n\u001b[0;32m----> 5\u001b[0;31m     \u001b[0mDense\u001b[0m\u001b[0;34m(\u001b[0m\u001b[0;36m64\u001b[0m\u001b[0;34m,\u001b[0m \u001b[0mactivation\u001b[0m\u001b[0;34m=\u001b[0m\u001b[0;34m'relu'\u001b[0m\u001b[0;34m,\u001b[0m \u001b[0minput_shape\u001b[0m\u001b[0;34m=\u001b[0m\u001b[0;34m(\u001b[0m\u001b[0minput_dim\u001b[0m\u001b[0;34m,\u001b[0m\u001b[0;34m)\u001b[0m\u001b[0;34m)\u001b[0m\u001b[0;34m,\u001b[0m\u001b[0;34m\u001b[0m\u001b[0;34m\u001b[0m\u001b[0m\n\u001b[0m\u001b[1;32m      6\u001b[0m     \u001b[0mDense\u001b[0m\u001b[0;34m(\u001b[0m\u001b[0;36m64\u001b[0m\u001b[0;34m,\u001b[0m \u001b[0mactivation\u001b[0m\u001b[0;34m=\u001b[0m\u001b[0;34m'relu'\u001b[0m\u001b[0;34m)\u001b[0m\u001b[0;34m,\u001b[0m\u001b[0;34m\u001b[0m\u001b[0;34m\u001b[0m\u001b[0m\n\u001b[1;32m      7\u001b[0m     \u001b[0mDense\u001b[0m\u001b[0;34m(\u001b[0m\u001b[0mnum_classes\u001b[0m\u001b[0;34m,\u001b[0m \u001b[0mactivation\u001b[0m\u001b[0;34m=\u001b[0m\u001b[0;34m'softmax'\u001b[0m\u001b[0;34m)\u001b[0m\u001b[0;34m\u001b[0m\u001b[0;34m\u001b[0m\u001b[0m\n",
            "\u001b[0;31mNameError\u001b[0m: name 'input_dim' is not defined"
          ]
        }
      ]
    },
    {
      "cell_type": "code",
      "source": [
        "from keras.layers import Dense\n",
        "from keras.models import Sequential\n",
        "\n",
        "model = Sequential([\n",
        "    Dense(64, activation='relu', input_shape=(input_dim,)),\n",
        "    Dense(64, activation='relu'),\n",
        "    Dense(num_classes, activation='softmax')\n",
        "])\n",
        "\n",
        "model.compile(optimizer='adam', loss='categorical_crossentropy', metrics=['accuracy'])\n"
      ],
      "metadata": {
        "id": "mpgaAKDHsMj4"
      },
      "execution_count": null,
      "outputs": []
    },
    {
      "cell_type": "code",
      "source": [
        "mnist = tf.keras.datasets.mnist\n",
        "\n",
        "(x_train, y_train), (x_test, y_test) = mnist.load_data()\n",
        "x_train, x_test = x_train / 255.0, x_test / 255.0"
      ],
      "metadata": {
        "colab": {
          "base_uri": "https://localhost:8080/"
        },
        "id": "yNBng8PNDM-6",
        "outputId": "a54d6001-410f-4863-ddf6-20ab0a464967"
      },
      "execution_count": null,
      "outputs": [
        {
          "output_type": "stream",
          "name": "stdout",
          "text": [
            "Downloading data from https://storage.googleapis.com/tensorflow/tf-keras-datasets/mnist.npz\n",
            "\u001b[1m11490434/11490434\u001b[0m \u001b[32m━━━━━━━━━━━━━━━━━━━━\u001b[0m\u001b[37m\u001b[0m \u001b[1m0s\u001b[0m 0us/step\n"
          ]
        }
      ]
    },
    {
      "cell_type": "markdown",
      "source": [
        "Build a machine learning model\n",
        "\n",
        "\n",
        "Build a tf.keras.Sequential model:"
      ],
      "metadata": {
        "id": "7yEzlBlqDnpn"
      }
    },
    {
      "cell_type": "code",
      "source": [
        "\n",
        "model = tf.keras.models.Sequential([\n",
        "  tf.keras.layers.Flatten(input_shape=(28, 28)),\n",
        "  tf.keras.layers.Dense(128, activation='relu'),\n",
        "  tf.keras.layers.Dropout(0.2),\n",
        "  tf.keras.layers.Dense(10)\n",
        "])"
      ],
      "metadata": {
        "colab": {
          "base_uri": "https://localhost:8080/"
        },
        "id": "MPorsyolDfdN",
        "outputId": "2bb3f440-9f00-46fb-bfd2-b4b1f59a561e"
      },
      "execution_count": null,
      "outputs": [
        {
          "output_type": "stream",
          "name": "stderr",
          "text": [
            "/usr/local/lib/python3.10/dist-packages/keras/src/layers/reshaping/flatten.py:37: UserWarning: Do not pass an `input_shape`/`input_dim` argument to a layer. When using Sequential models, prefer using an `Input(shape)` object as the first layer in the model instead.\n",
            "  super().__init__(**kwargs)\n"
          ]
        }
      ]
    },
    {
      "cell_type": "markdown",
      "source": [
        "Sequential is useful for stacking layers where each layer has one input tensor and one output tensor. Layers are functions with a known mathematical structure that can be reused and have trainable variables. Most TensorFlow models are composed of layers. This model uses the Flatten, Dense, and Dropout layers.\n",
        "\n",
        "For each example, the model returns a vector of logits or log-odds scores, one for each class."
      ],
      "metadata": {
        "id": "U_n1OF-jKc9f"
      }
    },
    {
      "cell_type": "code",
      "source": [
        "predictions = model(x_train[:1]).numpy()\n",
        "predictions"
      ],
      "metadata": {
        "colab": {
          "base_uri": "https://localhost:8080/"
        },
        "id": "gPmcvbaNKd8v",
        "outputId": "19217296-7dec-448a-bf14-0e23d5b34763"
      },
      "execution_count": null,
      "outputs": [
        {
          "output_type": "execute_result",
          "data": {
            "text/plain": [
              "array([[-0.8549914 , -0.60842115, -0.6975674 ,  0.67272735,  0.61200285,\n",
              "        -0.41180384, -0.33797556, -0.41248542,  0.5526458 , -0.17192067]],\n",
              "      dtype=float32)"
            ]
          },
          "metadata": {},
          "execution_count": 8
        }
      ]
    },
    {
      "cell_type": "markdown",
      "source": [
        "The tf.nn.softmax function converts these logits to probabilities for each class:"
      ],
      "metadata": {
        "id": "XbeN7ovpKsGr"
      }
    },
    {
      "cell_type": "code",
      "source": [
        "tf.nn.softmax(predictions).numpy()"
      ],
      "metadata": {
        "colab": {
          "base_uri": "https://localhost:8080/"
        },
        "id": "fXnRvfhNKlZk",
        "outputId": "52b7a0de-ecb7-4b18-a546-f93b42a52e70"
      },
      "execution_count": null,
      "outputs": [
        {
          "output_type": "execute_result",
          "data": {
            "text/plain": [
              "array([[0.04300801, 0.05503431, 0.05034053, 0.19816604, 0.1864906 ,\n",
              "        0.06699206, 0.07212512, 0.06694642, 0.17574318, 0.08515365]],\n",
              "      dtype=float32)"
            ]
          },
          "metadata": {},
          "execution_count": 9
        }
      ]
    },
    {
      "cell_type": "markdown",
      "source": [
        "Define a loss function for training using losses.SparseCategoricalCrossentropy:\n",
        "\n",
        "The loss function takes a vector of ground truth values and a vector of logits and returns a scalar loss for each example. This loss is equal to the negative log probability of the true class: The loss is zero if the model is sure of the correct class.\n",
        "\n",
        "This untrained model gives probabilities close to random (1/10 for each class), so the initial loss should be close to -tf.math.log(1/10) ~= 2.3."
      ],
      "metadata": {
        "id": "BnpFydv2K0DH"
      }
    },
    {
      "cell_type": "code",
      "source": [
        "loss_fn = tf.keras.losses.SparseCategoricalCrossentropy(from_logits=True)"
      ],
      "metadata": {
        "id": "zOlA3w2KKv9Q"
      },
      "execution_count": null,
      "outputs": []
    },
    {
      "cell_type": "code",
      "source": [
        "loss_fn(y_train[:1], predictions).numpy()"
      ],
      "metadata": {
        "colab": {
          "base_uri": "https://localhost:8080/"
        },
        "id": "OEebnmqQLJ_D",
        "outputId": "ea6b327d-9327-4321-bf50-5d16de548eac"
      },
      "execution_count": null,
      "outputs": [
        {
          "output_type": "execute_result",
          "data": {
            "text/plain": [
              "2.7031813"
            ]
          },
          "metadata": {},
          "execution_count": 11
        }
      ]
    },
    {
      "cell_type": "markdown",
      "source": [
        "Before you start training, configure and compile the model using Keras Model.compile. Set the optimizer class to adam, set the loss to the loss_fn function you defined earlier, and specify a metric to be evaluated for the model by setting the metrics parameter to accuracy."
      ],
      "metadata": {
        "id": "ldagjLE6LYqM"
      }
    },
    {
      "cell_type": "code",
      "source": [
        "model.compile(optimizer='adam',\n",
        "              loss=loss_fn,\n",
        "              metrics=['accuracy'])"
      ],
      "metadata": {
        "id": "kJcQRlNZLYaS"
      },
      "execution_count": null,
      "outputs": []
    },
    {
      "cell_type": "markdown",
      "source": [
        "Train and evaluate your model\n",
        "Use the Model.fit method to adjust your model parameters and minimize the loss:"
      ],
      "metadata": {
        "id": "xqY8e2BxLiBg"
      }
    },
    {
      "cell_type": "code",
      "source": [
        "model.fit(x_train, y_train, epochs=5)"
      ],
      "metadata": {
        "colab": {
          "base_uri": "https://localhost:8080/"
        },
        "id": "y0ZP3HZALkqv",
        "outputId": "490de837-9b2a-44fd-9dd2-a522a4dfc14c"
      },
      "execution_count": null,
      "outputs": [
        {
          "output_type": "stream",
          "name": "stdout",
          "text": [
            "Epoch 1/5\n",
            "\u001b[1m1875/1875\u001b[0m \u001b[32m━━━━━━━━━━━━━━━━━━━━\u001b[0m\u001b[37m\u001b[0m \u001b[1m6s\u001b[0m 3ms/step - accuracy: 0.8573 - loss: 0.4870\n",
            "Epoch 2/5\n",
            "\u001b[1m1875/1875\u001b[0m \u001b[32m━━━━━━━━━━━━━━━━━━━━\u001b[0m\u001b[37m\u001b[0m \u001b[1m11s\u001b[0m 3ms/step - accuracy: 0.9566 - loss: 0.1501\n",
            "Epoch 3/5\n",
            "\u001b[1m1875/1875\u001b[0m \u001b[32m━━━━━━━━━━━━━━━━━━━━\u001b[0m\u001b[37m\u001b[0m \u001b[1m8s\u001b[0m 4ms/step - accuracy: 0.9666 - loss: 0.1126\n",
            "Epoch 4/5\n",
            "\u001b[1m1875/1875\u001b[0m \u001b[32m━━━━━━━━━━━━━━━━━━━━\u001b[0m\u001b[37m\u001b[0m \u001b[1m9s\u001b[0m 4ms/step - accuracy: 0.9727 - loss: 0.0869\n",
            "Epoch 5/5\n",
            "\u001b[1m1875/1875\u001b[0m \u001b[32m━━━━━━━━━━━━━━━━━━━━\u001b[0m\u001b[37m\u001b[0m \u001b[1m6s\u001b[0m 3ms/step - accuracy: 0.9778 - loss: 0.0730\n"
          ]
        },
        {
          "output_type": "execute_result",
          "data": {
            "text/plain": [
              "<keras.src.callbacks.history.History at 0x7fe5ab5ab1c0>"
            ]
          },
          "metadata": {},
          "execution_count": 15
        }
      ]
    },
    {
      "cell_type": "markdown",
      "source": [
        "The Model.evaluate method checks the model's performance, usually on a validation set or test set."
      ],
      "metadata": {
        "id": "oK09b0GPLp8W"
      }
    },
    {
      "cell_type": "code",
      "source": [
        "model.evaluate(x_test,  y_test, verbose=2)"
      ],
      "metadata": {
        "colab": {
          "base_uri": "https://localhost:8080/"
        },
        "id": "dxcPozzlLs7X",
        "outputId": "1b1e1f5f-8421-4cd3-8f54-90144e9d7b83"
      },
      "execution_count": null,
      "outputs": [
        {
          "output_type": "stream",
          "name": "stdout",
          "text": [
            "313/313 - 0s - 2ms/step - accuracy: 0.9767 - loss: 0.0789\n"
          ]
        },
        {
          "output_type": "execute_result",
          "data": {
            "text/plain": [
              "[0.07889510691165924, 0.9767000079154968]"
            ]
          },
          "metadata": {},
          "execution_count": 16
        }
      ]
    },
    {
      "cell_type": "markdown",
      "source": [
        "The image classifier is now trained to ~98% accuracy on this dataset. To learn more, read the TensorFlow tutorials.\n",
        "\n",
        "If you want your model to return a probability, you can wrap the trained model, and attach the softmax to it:"
      ],
      "metadata": {
        "id": "LKMY8tW1L61T"
      }
    },
    {
      "cell_type": "code",
      "source": [
        "probability_model = tf.keras.Sequential([\n",
        "  model,\n",
        "  tf.keras.layers.Softmax()\n",
        "])"
      ],
      "metadata": {
        "id": "GUECjqbiL8uj"
      },
      "execution_count": null,
      "outputs": []
    },
    {
      "cell_type": "code",
      "source": [
        "probability_model(x_test[:5])"
      ],
      "metadata": {
        "colab": {
          "base_uri": "https://localhost:8080/"
        },
        "id": "pVcbbZgML-2Q",
        "outputId": "14d5d9eb-ccf7-4268-df54-c010713e5ef4"
      },
      "execution_count": null,
      "outputs": [
        {
          "output_type": "execute_result",
          "data": {
            "text/plain": [
              "<tf.Tensor: shape=(5, 10), dtype=float32, numpy=\n",
              "array([[1.70193708e-08, 7.98500016e-11, 1.76239539e-07, 6.40839280e-05,\n",
              "        6.41173226e-12, 1.11787315e-07, 5.63594581e-14, 9.99933600e-01,\n",
              "        7.93375587e-09, 1.93560822e-06],\n",
              "       [2.87408568e-08, 1.53344532e-04, 9.99834299e-01, 8.08868026e-06,\n",
              "        1.38212616e-13, 7.26504652e-07, 1.10848788e-08, 1.26955426e-13,\n",
              "        3.44109685e-06, 2.13663332e-12],\n",
              "       [1.49803000e-07, 9.99346673e-01, 1.52537059e-05, 1.02430031e-05,\n",
              "        2.42145237e-04, 1.09026842e-05, 7.57819953e-06, 1.18828342e-04,\n",
              "        2.45909934e-04, 2.30183468e-06],\n",
              "       [9.99886036e-01, 3.00490726e-08, 1.01013120e-05, 2.42062512e-08,\n",
              "        9.93535423e-07, 1.48428626e-06, 9.51742259e-05, 2.13178009e-06,\n",
              "        1.48029118e-08, 4.01359694e-06],\n",
              "       [1.07154392e-06, 1.08242526e-09, 1.79727740e-05, 4.79124481e-07,\n",
              "        9.98365223e-01, 3.88009056e-07, 1.87868045e-06, 4.32323850e-06,\n",
              "        1.02492390e-06, 1.60753995e-03]], dtype=float32)>"
            ]
          },
          "metadata": {},
          "execution_count": 18
        }
      ]
    }
  ]
}